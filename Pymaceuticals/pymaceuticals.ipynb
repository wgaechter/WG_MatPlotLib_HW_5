{
 "cells": [
  {
   "cell_type": "markdown",
   "metadata": {},
   "source": [
    "## Observations and Insights "
   ]
  },
  {
   "cell_type": "markdown",
   "metadata": {},
   "source": []
  },
  {
   "cell_type": "code",
   "execution_count": 58,
   "metadata": {},
   "outputs": [
    {
     "output_type": "execute_result",
     "data": {
      "text/plain": [
       "Index(['Mouse ID', 'Drug Regimen', 'Sex', 'Age_months', 'Weight (g)',\n",
       "       'Timepoint', 'Tumor Volume (mm3)', 'Metastatic Sites'],\n",
       "      dtype='object')"
      ]
     },
     "metadata": {},
     "execution_count": 58
    }
   ],
   "source": [
    "# Dependencies and Setup\n",
    "import matplotlib.pyplot as plt\n",
    "import pandas as pd\n",
    "import scipy.stats as sts\n",
    "\n",
    "# Study data files\n",
    "mouse_metadata_path = \"data/Mouse_metadata.csv\"\n",
    "study_results_path = \"data/Study_results.csv\"\n",
    "\n",
    "# Read the mouse data and the study results\n",
    "mouse_metadata = pd.read_csv(mouse_metadata_path)\n",
    "study_results = pd.read_csv(study_results_path)\n",
    "\n",
    "# Combine the data into a single dataset\n",
    "\n",
    "mouse_data = mouse_metadata.merge(study_results, how='inner', on='Mouse ID')\n",
    "\n",
    "# Display the data table for preview\n",
    "mouse_data.columns\n"
   ]
  },
  {
   "cell_type": "code",
   "execution_count": 36,
   "metadata": {},
   "outputs": [
    {
     "output_type": "execute_result",
     "data": {
      "text/plain": [
       "249"
      ]
     },
     "metadata": {},
     "execution_count": 36
    }
   ],
   "source": [
    "# Checking the number of mice.\n",
    "mouse_count = mouse_data['Mouse ID'].nunique()\n",
    "\n",
    "mouse_count"
   ]
  },
  {
   "cell_type": "code",
   "execution_count": 37,
   "metadata": {},
   "outputs": [
    {
     "output_type": "execute_result",
     "data": {
      "text/plain": [
       "1893"
      ]
     },
     "metadata": {},
     "execution_count": 37
    }
   ],
   "source": [
    "total_count = len(mouse_data)\n",
    "\n",
    "total_count"
   ]
  },
  {
   "cell_type": "code",
   "execution_count": 38,
   "metadata": {},
   "outputs": [
    {
     "output_type": "execute_result",
     "data": {
      "text/plain": [
       "    Mouse ID Drug Regimen  ... Tumor Volume (mm3)  Metastatic Sites\n",
       "909     g989     Propriva  ...          45.000000                 0\n",
       "911     g989     Propriva  ...          47.570392                 0\n",
       "913     g989     Propriva  ...          49.880528                 0\n",
       "915     g989     Propriva  ...          53.442020                 0\n",
       "917     g989     Propriva  ...          54.657650                 1\n",
       "\n",
       "[5 rows x 8 columns]"
      ],
      "text/html": "<div>\n<style scoped>\n    .dataframe tbody tr th:only-of-type {\n        vertical-align: middle;\n    }\n\n    .dataframe tbody tr th {\n        vertical-align: top;\n    }\n\n    .dataframe thead th {\n        text-align: right;\n    }\n</style>\n<table border=\"1\" class=\"dataframe\">\n  <thead>\n    <tr style=\"text-align: right;\">\n      <th></th>\n      <th>Mouse ID</th>\n      <th>Drug Regimen</th>\n      <th>Sex</th>\n      <th>Age_months</th>\n      <th>Weight (g)</th>\n      <th>Timepoint</th>\n      <th>Tumor Volume (mm3)</th>\n      <th>Metastatic Sites</th>\n    </tr>\n  </thead>\n  <tbody>\n    <tr>\n      <th>909</th>\n      <td>g989</td>\n      <td>Propriva</td>\n      <td>Female</td>\n      <td>21</td>\n      <td>26</td>\n      <td>0</td>\n      <td>45.000000</td>\n      <td>0</td>\n    </tr>\n    <tr>\n      <th>911</th>\n      <td>g989</td>\n      <td>Propriva</td>\n      <td>Female</td>\n      <td>21</td>\n      <td>26</td>\n      <td>5</td>\n      <td>47.570392</td>\n      <td>0</td>\n    </tr>\n    <tr>\n      <th>913</th>\n      <td>g989</td>\n      <td>Propriva</td>\n      <td>Female</td>\n      <td>21</td>\n      <td>26</td>\n      <td>10</td>\n      <td>49.880528</td>\n      <td>0</td>\n    </tr>\n    <tr>\n      <th>915</th>\n      <td>g989</td>\n      <td>Propriva</td>\n      <td>Female</td>\n      <td>21</td>\n      <td>26</td>\n      <td>15</td>\n      <td>53.442020</td>\n      <td>0</td>\n    </tr>\n    <tr>\n      <th>917</th>\n      <td>g989</td>\n      <td>Propriva</td>\n      <td>Female</td>\n      <td>21</td>\n      <td>26</td>\n      <td>20</td>\n      <td>54.657650</td>\n      <td>1</td>\n    </tr>\n  </tbody>\n</table>\n</div>"
     },
     "metadata": {},
     "execution_count": 38
    }
   ],
   "source": [
    "# Getting the duplicate mice by ID number that shows up for Mouse ID and Timepoint. \n",
    "double_mice = mouse_data[mouse_data.duplicated(['Mouse ID', 'Timepoint'])]\n",
    "\n",
    "double_mice"
   ]
  },
  {
   "cell_type": "code",
   "execution_count": 39,
   "metadata": {},
   "outputs": [],
   "source": [
    "# Optional: Get all the data for the duplicate mouse ID. "
   ]
  },
  {
   "cell_type": "code",
   "execution_count": 45,
   "metadata": {},
   "outputs": [
    {
     "output_type": "execute_result",
     "data": {
      "text/plain": [
       "1880"
      ]
     },
     "metadata": {},
     "execution_count": 45
    }
   ],
   "source": [
    "# Create a clean DataFrame by dropping the duplicate mouse by its ID.\n",
    "#clean_mouse = mouse_data.drop_duplicates(subset=['Mouse ID', 'Timepoint'], keep=False)\n",
    "bad_rat = mouse_data[mouse_data['Mouse ID'] == \"g989\"].index\n",
    "mouse_data.drop(bad_rat, inplace=True)\n",
    "\n",
    "mouse_count2 = mouse_data['Mouse ID'].nunique()\n",
    "total_count2 = len(mouse_data)\n",
    "\n",
    "mouse_count2\n",
    "total_count2"
   ]
  },
  {
   "cell_type": "code",
   "execution_count": 47,
   "metadata": {},
   "outputs": [
    {
     "output_type": "execute_result",
     "data": {
      "text/plain": [
       "Empty DataFrame\n",
       "Columns: [Mouse ID, Drug Regimen, Sex, Age_months, Weight (g), Timepoint, Tumor Volume (mm3), Metastatic Sites]\n",
       "Index: []"
      ],
      "text/html": "<div>\n<style scoped>\n    .dataframe tbody tr th:only-of-type {\n        vertical-align: middle;\n    }\n\n    .dataframe tbody tr th {\n        vertical-align: top;\n    }\n\n    .dataframe thead th {\n        text-align: right;\n    }\n</style>\n<table border=\"1\" class=\"dataframe\">\n  <thead>\n    <tr style=\"text-align: right;\">\n      <th></th>\n      <th>Mouse ID</th>\n      <th>Drug Regimen</th>\n      <th>Sex</th>\n      <th>Age_months</th>\n      <th>Weight (g)</th>\n      <th>Timepoint</th>\n      <th>Tumor Volume (mm3)</th>\n      <th>Metastatic Sites</th>\n    </tr>\n  </thead>\n  <tbody>\n  </tbody>\n</table>\n</div>"
     },
     "metadata": {},
     "execution_count": 47
    }
   ],
   "source": [
    "### Harch Check no g989 mouse points exists\n",
    "double_mice2 = mouse_data[mouse_data.duplicated(['Mouse ID', 'Timepoint'])]\n",
    "\n",
    "g989 = mouse_data[mouse_data['Mouse ID'] == 'g989']\n",
    "\n",
    "g989"
   ]
  },
  {
   "cell_type": "code",
   "execution_count": 48,
   "metadata": {},
   "outputs": [
    {
     "output_type": "execute_result",
     "data": {
      "text/plain": [
       "248"
      ]
     },
     "metadata": {},
     "execution_count": 48
    }
   ],
   "source": [
    "# Checking the number of mice in the clean DataFrame.\n",
    "mouse_count2"
   ]
  },
  {
   "cell_type": "markdown",
   "metadata": {},
   "source": [
    "## Summary Statistics"
   ]
  },
  {
   "cell_type": "code",
   "execution_count": 62,
   "metadata": {},
   "outputs": [
    {
     "output_type": "execute_result",
     "data": {
      "text/plain": [
       "              count       mean       std  ...        50%        75%        max\n",
       "Drug Regimen                              ...                                 \n",
       "Capomulin     230.0  40.675741  4.994774  ...  41.557809  45.000000  48.158209\n",
       "Ceftamin      178.0  52.591172  6.268188  ...  51.776157  56.801438  68.923185\n",
       "Infubinol     178.0  52.884795  6.567243  ...  51.820584  57.314444  72.226731\n",
       "Ketapril      188.0  55.235638  8.279709  ...  53.698743  60.870951  78.567014\n",
       "Naftisol      186.0  54.331565  8.134708  ...  52.509285  59.963034  76.668817\n",
       "Placebo       181.0  54.033581  7.821003  ...  52.288934  59.916934  73.212939\n",
       "Propriva      161.0  52.322552  6.507770  ...  50.854632  56.184664  72.455421\n",
       "Ramicane      228.0  40.216745  4.846308  ...  40.673236  45.000000  47.622816\n",
       "Stelasyn      181.0  54.233149  7.710419  ...  52.431737  58.719297  75.123690\n",
       "Zoniferol     182.0  53.236507  6.966589  ...  51.818479  57.954259  73.324432\n",
       "\n",
       "[10 rows x 8 columns]"
      ],
      "text/html": "<div>\n<style scoped>\n    .dataframe tbody tr th:only-of-type {\n        vertical-align: middle;\n    }\n\n    .dataframe tbody tr th {\n        vertical-align: top;\n    }\n\n    .dataframe thead th {\n        text-align: right;\n    }\n</style>\n<table border=\"1\" class=\"dataframe\">\n  <thead>\n    <tr style=\"text-align: right;\">\n      <th></th>\n      <th>count</th>\n      <th>mean</th>\n      <th>std</th>\n      <th>min</th>\n      <th>25%</th>\n      <th>50%</th>\n      <th>75%</th>\n      <th>max</th>\n    </tr>\n    <tr>\n      <th>Drug Regimen</th>\n      <th></th>\n      <th></th>\n      <th></th>\n      <th></th>\n      <th></th>\n      <th></th>\n      <th></th>\n      <th></th>\n    </tr>\n  </thead>\n  <tbody>\n    <tr>\n      <th>Capomulin</th>\n      <td>230.0</td>\n      <td>40.675741</td>\n      <td>4.994774</td>\n      <td>23.343598</td>\n      <td>37.685933</td>\n      <td>41.557809</td>\n      <td>45.000000</td>\n      <td>48.158209</td>\n    </tr>\n    <tr>\n      <th>Ceftamin</th>\n      <td>178.0</td>\n      <td>52.591172</td>\n      <td>6.268188</td>\n      <td>45.000000</td>\n      <td>47.208427</td>\n      <td>51.776157</td>\n      <td>56.801438</td>\n      <td>68.923185</td>\n    </tr>\n    <tr>\n      <th>Infubinol</th>\n      <td>178.0</td>\n      <td>52.884795</td>\n      <td>6.567243</td>\n      <td>36.321346</td>\n      <td>47.312353</td>\n      <td>51.820584</td>\n      <td>57.314444</td>\n      <td>72.226731</td>\n    </tr>\n    <tr>\n      <th>Ketapril</th>\n      <td>188.0</td>\n      <td>55.235638</td>\n      <td>8.279709</td>\n      <td>45.000000</td>\n      <td>48.232987</td>\n      <td>53.698743</td>\n      <td>60.870951</td>\n      <td>78.567014</td>\n    </tr>\n    <tr>\n      <th>Naftisol</th>\n      <td>186.0</td>\n      <td>54.331565</td>\n      <td>8.134708</td>\n      <td>45.000000</td>\n      <td>47.285874</td>\n      <td>52.509285</td>\n      <td>59.963034</td>\n      <td>76.668817</td>\n    </tr>\n    <tr>\n      <th>Placebo</th>\n      <td>181.0</td>\n      <td>54.033581</td>\n      <td>7.821003</td>\n      <td>45.000000</td>\n      <td>47.459053</td>\n      <td>52.288934</td>\n      <td>59.916934</td>\n      <td>73.212939</td>\n    </tr>\n    <tr>\n      <th>Propriva</th>\n      <td>161.0</td>\n      <td>52.322552</td>\n      <td>6.507770</td>\n      <td>45.000000</td>\n      <td>47.081086</td>\n      <td>50.854632</td>\n      <td>56.184664</td>\n      <td>72.455421</td>\n    </tr>\n    <tr>\n      <th>Ramicane</th>\n      <td>228.0</td>\n      <td>40.216745</td>\n      <td>4.846308</td>\n      <td>22.050126</td>\n      <td>36.674635</td>\n      <td>40.673236</td>\n      <td>45.000000</td>\n      <td>47.622816</td>\n    </tr>\n    <tr>\n      <th>Stelasyn</th>\n      <td>181.0</td>\n      <td>54.233149</td>\n      <td>7.710419</td>\n      <td>45.000000</td>\n      <td>48.047139</td>\n      <td>52.431737</td>\n      <td>58.719297</td>\n      <td>75.123690</td>\n    </tr>\n    <tr>\n      <th>Zoniferol</th>\n      <td>182.0</td>\n      <td>53.236507</td>\n      <td>6.966589</td>\n      <td>45.000000</td>\n      <td>47.337876</td>\n      <td>51.818479</td>\n      <td>57.954259</td>\n      <td>73.324432</td>\n    </tr>\n  </tbody>\n</table>\n</div>"
     },
     "metadata": {},
     "execution_count": 62
    }
   ],
   "source": [
    "# Generate a summary statistics table of mean, median, variance, standard deviation, and SEM of the tumor volume for each regimen\n",
    "\n",
    "drug_summary = mouse_data.groupby(\"Drug Regimen\")[\"Tumor Volume (mm3)\"].describe()\n",
    "\n",
    "drug_summary\n",
    "\n",
    "#drug_data = mouse_data.groupby(\"Drug Regimen\", as_index=False)[\"Tumor Volume (mm3)\"].mean()\n",
    "#drug_median = mouse_data.groupby(\"Drug Regimen\", as_index=False)[\"Tumor Volume (mm3)\"].median()\n",
    "#drug_mode = mouse_data.groupby(\"Drug Regimen\", as_index=False)[\"Tumor Volume (mm3)\"].mode()\n",
    "#drug_data = drug_data.merge(drug_median, how=\"outer\", on=\"Drug Regimen\")\n",
    "#drug_data = drug_data.merge(drug_mode, how=\"outer\", on=\"Drug Regimen\")\n",
    "#drug_data\n",
    "\n",
    "# Use groupby and summary statistical methods to calculate the following properties of each drug regimen: \n",
    "# mean, median, variance, standard deviation, and SEM of the tumor volume. \n",
    "# Assemble the resulting series into a single summary dataframe.\n",
    "\n"
   ]
  },
  {
   "cell_type": "code",
   "execution_count": 8,
   "metadata": {},
   "outputs": [],
   "source": [
    "# Generate a summary statistics table of mean, median, variance, standard deviation, and SEM of the tumor volume for each regimen\n",
    "\n",
    "# Using the aggregation method, produce the same summary statistics in a single line\n"
   ]
  },
  {
   "cell_type": "markdown",
   "metadata": {},
   "source": [
    "## Bar and Pie Charts"
   ]
  },
  {
   "cell_type": "code",
   "execution_count": 9,
   "metadata": {},
   "outputs": [],
   "source": [
    "# Generate a bar plot showing the total number of unique mice tested on each drug regimen using pandas.\n",
    "\n"
   ]
  },
  {
   "cell_type": "code",
   "execution_count": 10,
   "metadata": {},
   "outputs": [],
   "source": [
    "# Generate a bar plot showing the total number of unique mice tested on each drug regimen using pyplot.\n",
    "\n"
   ]
  },
  {
   "cell_type": "code",
   "execution_count": 11,
   "metadata": {},
   "outputs": [],
   "source": [
    "# Generate a pie plot showing the distribution of female versus male mice using pandas\n",
    "\n"
   ]
  },
  {
   "cell_type": "code",
   "execution_count": 12,
   "metadata": {},
   "outputs": [],
   "source": [
    "# Generate a pie plot showing the distribution of female versus male mice using pyplot\n",
    "\n"
   ]
  },
  {
   "cell_type": "markdown",
   "metadata": {},
   "source": [
    "## Quartiles, Outliers and Boxplots"
   ]
  },
  {
   "cell_type": "code",
   "execution_count": 13,
   "metadata": {},
   "outputs": [],
   "source": [
    "# Calculate the final tumor volume of each mouse across four of the treatment regimens:  \n",
    "# Capomulin, Ramicane, Infubinol, and Ceftamin\n",
    "\n",
    "# Start by getting the last (greatest) timepoint for each mouse\n",
    "\n",
    "\n",
    "# Merge this group df with the original dataframe to get the tumor volume at the last timepoint\n"
   ]
  },
  {
   "cell_type": "code",
   "execution_count": 14,
   "metadata": {},
   "outputs": [],
   "source": [
    "# Put treatments into a list for for loop (and later for plot labels)\n",
    "\n",
    "\n",
    "# Create empty list to fill with tumor vol data (for plotting)\n",
    "\n",
    "\n",
    "# Calculate the IQR and quantitatively determine if there are any potential outliers. \n",
    "\n",
    "    \n",
    "    # Locate the rows which contain mice on each drug and get the tumor volumes\n",
    "    \n",
    "    \n",
    "    # add subset \n",
    "    \n",
    "    \n",
    "    # Determine outliers using upper and lower bounds\n",
    "    "
   ]
  },
  {
   "cell_type": "code",
   "execution_count": 15,
   "metadata": {},
   "outputs": [],
   "source": [
    "# Generate a box plot of the final tumor volume of each mouse across four regimens of interest\n"
   ]
  },
  {
   "cell_type": "markdown",
   "metadata": {},
   "source": [
    "## Line and Scatter Plots"
   ]
  },
  {
   "cell_type": "code",
   "execution_count": 16,
   "metadata": {},
   "outputs": [],
   "source": [
    "# Generate a line plot of tumor volume vs. time point for a mouse treated with Capomulin\n"
   ]
  },
  {
   "cell_type": "code",
   "execution_count": 17,
   "metadata": {},
   "outputs": [],
   "source": [
    "# Generate a scatter plot of average tumor volume vs. mouse weight for the Capomulin regimen\n"
   ]
  },
  {
   "cell_type": "markdown",
   "metadata": {},
   "source": [
    "## Correlation and Regression"
   ]
  },
  {
   "cell_type": "code",
   "execution_count": 18,
   "metadata": {},
   "outputs": [],
   "source": [
    "# Calculate the correlation coefficient and linear regression model \n",
    "# for mouse weight and average tumor volume for the Capomulin regimen\n"
   ]
  },
  {
   "cell_type": "code",
   "execution_count": null,
   "metadata": {},
   "outputs": [],
   "source": []
  }
 ],
 "metadata": {
  "anaconda-cloud": {},
  "kernelspec": {
   "display_name": "Python 3",
   "language": "python",
   "name": "python3"
  },
  "language_info": {
   "codemirror_mode": {
    "name": "ipython",
    "version": 3
   },
   "file_extension": ".py",
   "mimetype": "text/x-python",
   "name": "python",
   "nbconvert_exporter": "python",
   "pygments_lexer": "ipython3",
   "version": "3.8.5-final"
  }
 },
 "nbformat": 4,
 "nbformat_minor": 4
}